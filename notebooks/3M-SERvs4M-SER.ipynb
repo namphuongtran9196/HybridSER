{
 "cells": [
  {
   "cell_type": "code",
   "execution_count": null,
   "id": "94ccc9b9-bcec-4a1b-a8dd-c6b76b2397c9",
   "metadata": {},
   "outputs": [],
   "source": [
    "import os\n",
    "# os.environ[\"CUDA_VISIBLE_DEVICES\"] = \"-1\"\n",
    "import sys\n",
    "import logging\n",
    "\n",
    "lib_path = os.path.abspath(\"\").replace(\"notebooks\", \"src\")\n",
    "sys.path.append(lib_path)\n",
    "logging.basicConfig(\n",
    "    level=logging.INFO,\n",
    "    format=\"%(asctime)s - %(name)s - %(levelname)s - %(message)s\",\n",
    ")\n",
    "\n",
    "import csv\n",
    "import argparse\n",
    "import torch\n",
    "import matplotlib.pyplot as plt\n",
    "import numpy as np\n",
    "import seaborn as sns\n",
    "from sklearn import svm\n",
    "from sklearn.metrics import (\n",
    "    balanced_accuracy_score,\n",
    "    accuracy_score,\n",
    "    confusion_matrix,\n",
    "    f1_score,\n",
    ")\n",
    "from data.dataloader import build_train_test_dataset\n",
    "from tqdm.auto import tqdm\n",
    "from models import networks\n",
    "from configs.base import Config\n",
    "from collections import Counter\n",
    "from typing import Tuple\n"
   ]
  },
  {
   "cell_type": "code",
   "execution_count": 2,
   "id": "6615470a-5088-4aa1-acf8-edb1e6eddff3",
   "metadata": {},
   "outputs": [],
   "source": [
    "def calculate_accuracy(y_true, y_pred) -> Tuple[float, float]:\n",
    "    class_weights = {cls: 1.0 / count for cls, count in Counter(y_true).items()}\n",
    "    bacc = float(\n",
    "        balanced_accuracy_score(\n",
    "            y_true, y_pred, sample_weight=[class_weights[cls] for cls in y_true]\n",
    "        )\n",
    "    )\n",
    "    acc = float(accuracy_score(y_true, y_pred))\n",
    "    return bacc, acc\n",
    "\n",
    "\n",
    "def calculate_f1_score(y_true, y_pred) -> Tuple[float, float]:\n",
    "    macro_f1 = float(f1_score(y_true, y_pred, average=\"macro\"))\n",
    "    weighted_f1 = float(f1_score(y_true, y_pred, average=\"weighted\"))\n",
    "    return macro_f1, weighted_f1\n",
    "\n",
    "\n",
    "def eval(cfg, checkpoint_path, all_state_dict=True, cm=False):\n",
    "    device = torch.device(\"cuda\" if torch.cuda.is_available() else \"cpu\")\n",
    "    network = getattr(networks, cfg.model_type)(cfg)\n",
    "    network.to(device)\n",
    "\n",
    "    # Build dataset\n",
    "    _, test_ds = build_train_test_dataset(cfg)\n",
    "    weight = torch.load(checkpoint_path, map_location=torch.device(device))\n",
    "    if all_state_dict:\n",
    "        weight = weight[\"state_dict_network\"]\n",
    "\n",
    "    network.load_state_dict(weight)\n",
    "    network.eval()\n",
    "    network.to(device)\n",
    "\n",
    "    y_actu = []\n",
    "    y_pred = []\n",
    "\n",
    "    for every_test_list in tqdm(test_ds):\n",
    "        input_ids, audio, label = every_test_list\n",
    "        input_ids = input_ids.to(device)\n",
    "        audio = audio.to(device)\n",
    "        label = label.to(device)\n",
    "        with torch.no_grad():\n",
    "            output = network(input_ids, audio)[0]\n",
    "            _, preds = torch.max(output, 1)\n",
    "            y_actu.append(label.detach().cpu().numpy()[0])\n",
    "            y_pred.append(preds.detach().cpu().numpy()[0])\n",
    "    bacc, acc = calculate_accuracy(y_actu, y_pred)\n",
    "    macro_f1, weighted_f1 = calculate_f1_score(y_actu, y_pred)\n",
    "    if cm:\n",
    "        cm = confusion_matrix(y_actu, y_pred)\n",
    "        print(\"Confusion Matrix: \\n\", cm)\n",
    "        cmn = (cm.astype(\"float\") / cm.sum(axis=1)[:, np.newaxis]) * 100\n",
    "\n",
    "        ax = plt.subplots(figsize=(8, 5.5))[1]\n",
    "        sns.heatmap(\n",
    "            cmn,\n",
    "            cmap=\"YlOrBr\",\n",
    "            annot=True,\n",
    "            square=True,\n",
    "            linecolor=\"black\",\n",
    "            linewidths=0.75,\n",
    "            ax=ax,\n",
    "            fmt=\".2f\",\n",
    "            annot_kws={\"size\": 16},\n",
    "        )\n",
    "        ax.set_xlabel(\"Predicted\", fontsize=18, fontweight=\"bold\")\n",
    "        ax.xaxis.set_label_position(\"bottom\")\n",
    "        ax.xaxis.set_ticklabels(\n",
    "            [\"Anger\", \"Happiness\", \"Sadness\", \"Neutral\"], fontsize=16\n",
    "        )\n",
    "        ax.set_ylabel(\"Ground Truth\", fontsize=18, fontweight=\"bold\")\n",
    "        ax.yaxis.set_ticklabels(\n",
    "            [\"Anger\", \"Happiness\", \"Sadness\", \"Neutral\"], fontsize=16\n",
    "        )\n",
    "        plt.tight_layout()\n",
    "        plt.savefig(cfg.name + \".png\", format=\"png\", dpi=1200)\n",
    "\n",
    "    return bacc, acc, macro_f1, weighted_f1"
   ]
  },
  {
   "cell_type": "code",
   "execution_count": 3,
   "id": "43eaff40-f0e4-4b55-9688-ab98bdc21691",
   "metadata": {},
   "outputs": [],
   "source": [
    "def evaluate(ckpt, test_set=None):\n",
    "    cfg_path = os.path.join(ckpt, \"cfg.log\")\n",
    "    all_state_dict = True\n",
    "    ckpt_path = os.path.join(\n",
    "        ckpt, \"weights/best_acc/checkpoint_0_0.pt\"\n",
    "    )\n",
    "    if not os.path.exists(ckpt_path):\n",
    "        ckpt_path = os.path.join(\n",
    "            ckpt, \"weights/best_acc/checkpoint_0.pth\"\n",
    "        )\n",
    "        all_state_dict = False\n",
    "    \n",
    "    cfg = Config()\n",
    "    cfg.load(cfg_path)\n",
    "    # Change to test set\n",
    "    test_set = test_set if test_set is not None else \"test.pkl\"\n",
    "    cfg.data_valid = test_set\n",
    "    \n",
    "    bacc, acc, macro_f1, weighted_f1 = eval(\n",
    "        cfg,\n",
    "        ckpt_path,\n",
    "        all_state_dict=all_state_dict,\n",
    "    )\n",
    "    logging.info(\n",
    "        \"BACC {:.4f} | ACC {:.4f}, | MACRO_F1 {:.4f} | WEIGHTED_F1 {:.4f}\".format(\n",
    "            bacc, acc, macro_f1, weighted_f1\n",
    "        )\n",
    "    )\n",
    "    return {\"$BACC$\":round(bacc*100,2), \"$ACC$\" :round(acc*100,2), \"$MF1$\":round(macro_f1*100,2), \"$WF1$\": round(weighted_f1*100,2)}"
   ]
  },
  {
   "cell_type": "code",
   "execution_count": 4,
   "id": "8578ee19-2049-4141-bde8-a6570c787cef",
   "metadata": {},
   "outputs": [
    {
     "name": "stderr",
     "output_type": "stream",
     "text": [
      "Some weights of the model checkpoint at bert-base-uncased were not used when initializing BertModel: ['cls.predictions.transform.dense.bias', 'cls.predictions.transform.LayerNorm.weight', 'cls.predictions.transform.dense.weight', 'cls.predictions.decoder.weight', 'cls.seq_relationship.bias', 'cls.seq_relationship.weight', 'cls.predictions.bias', 'cls.predictions.transform.LayerNorm.bias']\n",
      "- This IS expected if you are initializing BertModel from the checkpoint of a model trained on another task or with another architecture (e.g. initializing a BertForSequenceClassification model from a BertForPreTraining model).\n",
      "- This IS NOT expected if you are initializing BertModel from the checkpoint of a model that you expect to be exactly identical (initializing a BertForSequenceClassification model from a BertForSequenceClassification model).\n",
      "100%|███████████████████████████████████████████████████████████████████████████████████████████████████████████████████████████████████████████████████████| 554/554 [00:27<00:00, 20.19it/s]\n",
      "2024-03-29 16:08:37,335 - root - INFO - BACC 0.7677 | ACC 0.7653, | MACRO_F1 0.7706 | WEIGHTED_F1 0.7679\n",
      "Some weights of the model checkpoint at bert-base-uncased were not used when initializing BertModel: ['cls.predictions.transform.dense.bias', 'cls.predictions.transform.LayerNorm.weight', 'cls.predictions.transform.dense.weight', 'cls.predictions.decoder.weight', 'cls.seq_relationship.bias', 'cls.seq_relationship.weight', 'cls.predictions.bias', 'cls.predictions.transform.LayerNorm.bias']\n",
      "- This IS expected if you are initializing BertModel from the checkpoint of a model trained on another task or with another architecture (e.g. initializing a BertForSequenceClassification model from a BertForPreTraining model).\n",
      "- This IS NOT expected if you are initializing BertModel from the checkpoint of a model that you expect to be exactly identical (initializing a BertForSequenceClassification model from a BertForSequenceClassification model).\n",
      "100%|███████████████████████████████████████████████████████████████████████████████████████████████████████████████████████████████████████████████████████| 498/498 [00:23<00:00, 21.60it/s]\n",
      "2024-03-29 16:09:03,365 - root - INFO - BACC 0.7503 | ACC 0.7450, | MACRO_F1 0.7492 | WEIGHTED_F1 0.7455\n",
      "Some weights of the model checkpoint at bert-base-uncased were not used when initializing BertModel: ['cls.predictions.transform.dense.bias', 'cls.predictions.transform.LayerNorm.weight', 'cls.predictions.transform.dense.weight', 'cls.predictions.decoder.weight', 'cls.seq_relationship.bias', 'cls.seq_relationship.weight', 'cls.predictions.bias', 'cls.predictions.transform.LayerNorm.bias']\n",
      "- This IS expected if you are initializing BertModel from the checkpoint of a model trained on another task or with another architecture (e.g. initializing a BertForSequenceClassification model from a BertForPreTraining model).\n",
      "- This IS NOT expected if you are initializing BertModel from the checkpoint of a model that you expect to be exactly identical (initializing a BertForSequenceClassification model from a BertForSequenceClassification model).\n",
      "100%|███████████████████████████████████████████████████████████████████████████████████████████████████████████████████████████████████████████████████████| 554/554 [00:24<00:00, 22.59it/s]\n",
      "2024-03-29 16:09:31,868 - root - INFO - BACC 0.7765 | ACC 0.7708, | MACRO_F1 0.7762 | WEIGHTED_F1 0.7720\n",
      "Some weights of the model checkpoint at bert-base-uncased were not used when initializing BertModel: ['cls.predictions.transform.dense.bias', 'cls.predictions.transform.LayerNorm.weight', 'cls.predictions.transform.dense.weight', 'cls.predictions.decoder.weight', 'cls.seq_relationship.bias', 'cls.seq_relationship.weight', 'cls.predictions.bias', 'cls.predictions.transform.LayerNorm.bias']\n",
      "- This IS expected if you are initializing BertModel from the checkpoint of a model trained on another task or with another architecture (e.g. initializing a BertForSequenceClassification model from a BertForPreTraining model).\n",
      "- This IS NOT expected if you are initializing BertModel from the checkpoint of a model that you expect to be exactly identical (initializing a BertForSequenceClassification model from a BertForSequenceClassification model).\n",
      "100%|███████████████████████████████████████████████████████████████████████████████████████████████████████████████████████████████████████████████████████| 498/498 [00:20<00:00, 24.08it/s]\n",
      "2024-03-29 16:09:55,244 - root - INFO - BACC 0.7612 | ACC 0.7550, | MACRO_F1 0.7597 | WEIGHTED_F1 0.7549\n"
     ]
    }
   ],
   "source": [
    "ckpt_3m_ser = \"checkpoints_latest/IEMOCAP/_3M_SER_bert_vggish/20240317-093627\"\n",
    "ckpt_4m_ser = \"checkpoints_latest/IEMOCAP/_4M_SER_bert_vggish/20240324-231013\"\n",
    "\n",
    "test_3m_ser = evaluate(ckpt_3m_ser)\n",
    "eval_3m_ser = evaluate(ckpt_3m_ser, test_set=\"val.pkl\")\n",
    "\n",
    "test_4m_ser = evaluate(ckpt_4m_ser)\n",
    "eval_4m_ser = evaluate(ckpt_4m_ser, test_set=\"val.pkl\")"
   ]
  },
  {
   "cell_type": "code",
   "execution_count": 5,
   "id": "9244b8f0-89ef-4830-b5a2-f1f31bef6eae",
   "metadata": {},
   "outputs": [
    {
     "data": {
      "text/plain": [
       "({'$BACC$': 75.03, '$ACC$': 74.5, '$MF1$': 74.92, '$WF1$': 74.55},\n",
       " {'$BACC$': 76.12, '$ACC$': 75.5, '$MF1$': 75.97, '$WF1$': 75.49})"
      ]
     },
     "execution_count": 5,
     "metadata": {},
     "output_type": "execute_result"
    }
   ],
   "source": [
    "eval_3m_ser, eval_4m_ser"
   ]
  },
  {
   "cell_type": "code",
   "execution_count": 6,
   "id": "beb624cc-cb1e-4251-99d1-9866c10fc591",
   "metadata": {},
   "outputs": [
    {
     "data": {
      "text/plain": [
       "({'$BACC$': 76.77, '$ACC$': 76.53, '$MF1$': 77.06, '$WF1$': 76.79},\n",
       " {'$BACC$': 77.65, '$ACC$': 77.08, '$MF1$': 77.62, '$WF1$': 77.2})"
      ]
     },
     "execution_count": 6,
     "metadata": {},
     "output_type": "execute_result"
    }
   ],
   "source": [
    "test_3m_ser, test_4m_ser"
   ]
  },
  {
   "cell_type": "code",
   "execution_count": 24,
   "id": "2d47b6c4-1787-4e4a-9278-2e8ad936d761",
   "metadata": {},
   "outputs": [
    {
     "name": "stderr",
     "output_type": "stream",
     "text": [
      "/tmp/ipykernel_36507/2002435524.py:31: UserWarning: The figure layout has changed to tight\n",
      "  plt.tight_layout()\n"
     ]
    },
    {
     "data": {
      "image/png": "[encoded data removed]",
      "text/plain": [
       "<Figure size 640x480 with 1 Axes>"
      ]
     },
     "metadata": {},
     "output_type": "display_data"
    }
   ],
   "source": [
    "import matplotlib.pyplot as plt\n",
    "import numpy as np\n",
    "import matplotlib as mpl\n",
    "\n",
    "species = ('$BACC$', '$ACC$', '$MF1$', '$WF1$')\n",
    "penguin_means = {\n",
    "    \"3M-SER\": (eval_3m_ser['$BACC$'], eval_3m_ser['$ACC$'], eval_3m_ser['$MF1$'],eval_3m_ser['$WF1$']),\n",
    "    \"4M-SER\": (eval_4m_ser['$BACC$'], eval_4m_ser['$ACC$'], eval_4m_ser['$MF1$'],eval_4m_ser['$WF1$']),\n",
    "}\n",
    "\n",
    "x = np.arange(len(species))  # the label locations\n",
    "width = 0.3  # the width of the bars\n",
    "multiplier = 0\n",
    "\n",
    "fig, ax = plt.subplots(layout='constrained')\n",
    "fmt = lambda x, pos: '1+ {:.0f}e-3'.format((x-1)*1e3, pos)\n",
    "\n",
    "for attribute, measurement in penguin_means.items():\n",
    "    offset = width * multiplier\n",
    "    rects = ax.bar(x + offset, measurement, width, label=attribute)\n",
    "    ax.bar_label(rects, padding=3, fmt='{:.2f}')\n",
    "    multiplier += 1\n",
    "\n",
    "# Add some text for labels, title and custom x-axis tick labels, etc.\n",
    "ax.set_ylabel('Performance scores (%)')\n",
    "# ax.set_title('Penguin attributes by species')\n",
    "ax.set_xticks(x + width, species)\n",
    "ax.legend(loc='upper left', ncols=2)\n",
    "ax.set_ylim(73, 77)\n",
    "\n",
    "plt.tight_layout()\n",
    "plt.savefig(\"3M-SERvs4M-SER_eval.png\", dpi=300, bbox_inches='tight')\n",
    "plt.show()"
   ]
  },
  {
   "cell_type": "code",
   "execution_count": 28,
   "id": "206bec1a-5d05-40de-aaac-56165df95d95",
   "metadata": {},
   "outputs": [
    {
     "name": "stderr",
     "output_type": "stream",
     "text": [
      "/tmp/ipykernel_36507/996657867.py:29: UserWarning: The figure layout has changed to tight\n",
      "  plt.tight_layout()\n"
     ]
    },
    {
     "data": {
      "image/png": "[encoded data removed]",
      "text/plain": [
       "<Figure size 640x480 with 1 Axes>"
      ]
     },
     "metadata": {},
     "output_type": "display_data"
    }
   ],
   "source": [
    "import matplotlib.pyplot as plt\n",
    "import numpy as np\n",
    "\n",
    "species = ('$BACC$', '$ACC$', '$MF1$', '$WF1$')\n",
    "penguin_means = {\n",
    "    \"3M-SER\": (test_3m_ser['$BACC$'], test_3m_ser['$ACC$'], test_3m_ser['$MF1$'],test_3m_ser['$WF1$']),\n",
    "    \"4M-SER\": (test_4m_ser['$BACC$'], test_4m_ser['$ACC$'], test_4m_ser['$MF1$'],test_4m_ser['$WF1$']),\n",
    "}\n",
    "\n",
    "x = np.arange(len(species))  # the label locations\n",
    "width = 0.3  # the width of the bars\n",
    "multiplier = 0\n",
    "\n",
    "fig, ax = plt.subplots(layout='constrained')\n",
    "\n",
    "for attribute, measurement in penguin_means.items():\n",
    "    offset = width * multiplier\n",
    "    rects = ax.bar(x + offset, measurement, width, label=attribute)\n",
    "    ax.bar_label(rects, padding=3, fmt='{:.2f}')\n",
    "    multiplier += 1\n",
    "\n",
    "# Add some text for labels, title and custom x-axis tick labels, etc.\n",
    "ax.set_ylabel('Performance scores (%)')\n",
    "# ax.set_title('Penguin attributes by species')\n",
    "ax.set_xticks(x + width, species)\n",
    "ax.legend(loc='upper left', ncols=2)\n",
    "ax.set_ylim(74.5, 78.5)\n",
    "\n",
    "plt.tight_layout()\n",
    "plt.savefig(\"3M-SERvs4M-SER_test.png\", dpi=300, bbox_inches='tight')\n",
    "plt.show()"
   ]
  }
 ],
 "metadata": {
  "kernelspec": {
   "display_name": "py39-torch2.2.1",
   "language": "python",
   "name": "py39-torch2.2.1"
  },
  "language_info": {
   "codemirror_mode": {
    "name": "ipython",
    "version": 3
   },
   "file_extension": ".py",
   "mimetype": "text/x-python",
   "name": "python",
   "nbconvert_exporter": "python",
   "pygments_lexer": "ipython3",
   "version": "3.9.18"
  }
 },
 "nbformat": 4,
 "nbformat_minor": 5
}
